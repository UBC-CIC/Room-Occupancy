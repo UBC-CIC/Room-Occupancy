{
 "cells": [
  {
   "cell_type": "code",
   "execution_count": 2,
   "metadata": {},
   "outputs": [],
   "source": [
    "import cv2\n",
    "import numpy as np\n",
    "import pandas as pd\n",
    "import time\n",
    "import random\n",
    "import matplotlib.pyplot as plt"
   ]
  },
  {
   "cell_type": "code",
   "execution_count": 3,
   "metadata": {},
   "outputs": [],
   "source": [
    "# Download data from https://www.kaggle.com/datasets/fmena14/crowd-counting/code\n",
    "# data size too big cannot updload to github\n",
    "images = np.load(\"../data/images.npy\")      # size: 640*480\n",
    "label = np.load(\"../data/labels.npy\")"
   ]
  },
  {
   "cell_type": "code",
   "execution_count": null,
   "metadata": {},
   "outputs": [],
   "source": [
    "# Wider Pedestrian Dataset (https://drive.google.com/file/d/1I7OjhaomWqd8Quf7o5suwLloRlY0THbp/view)\n",
    "# extension of the Wider Face dataset and focuses on pedestrian detection\n"
   ]
  },
  {
   "cell_type": "markdown",
   "metadata": {},
   "source": [
    "# Default HogDescriptor"
   ]
  },
  {
   "cell_type": "code",
   "execution_count": 3,
   "metadata": {},
   "outputs": [],
   "source": [
    "def count_people(image):\n",
    "    # Load the pre-trained HOG people detector\n",
    "    hog = cv2.HOGDescriptor()\n",
    "    hog.setSVMDetector(cv2.HOGDescriptor_getDefaultPeopleDetector())\n",
    "\n",
    "    # Convert the image to grayscale for HOG detector\n",
    "    # gray = cv2.cvtColor(image, cv2.COLOR_BGR2GRAY)\n",
    "\n",
    "    # Detect people in the image\n",
    "    people, _ = hog.detectMultiScale(image)\n",
    "\n",
    "    # Return the count of detected people\n",
    "    return len(people)"
   ]
  },
  {
   "cell_type": "code",
   "execution_count": 4,
   "metadata": {},
   "outputs": [],
   "source": [
    "countErr = []\n",
    "for img, lab in zip(images[:100], label[:100]):\n",
    "    count = count_people(img)\n",
    "    error = lab[0] - count\n",
    "    countErr.append([count, error])"
   ]
  },
  {
   "cell_type": "code",
   "execution_count": 5,
   "metadata": {},
   "outputs": [
    {
     "name": "stdout",
     "output_type": "stream",
     "text": [
      "Average Error:  22.19\n"
     ]
    }
   ],
   "source": [
    "result = np.append(label[:100], countErr, axis=1)\n",
    "df = pd.DataFrame(result, columns=[\"actual\", \"counted\", \"error\"])\n",
    "print(\"Average Error: \", sum(df[\"error\"])/len(df[\"error\"]))"
   ]
  },
  {
   "cell_type": "code",
   "execution_count": 6,
   "metadata": {},
   "outputs": [
    {
     "data": {
      "text/html": [
       "<div>\n",
       "<style scoped>\n",
       "    .dataframe tbody tr th:only-of-type {\n",
       "        vertical-align: middle;\n",
       "    }\n",
       "\n",
       "    .dataframe tbody tr th {\n",
       "        vertical-align: top;\n",
       "    }\n",
       "\n",
       "    .dataframe thead th {\n",
       "        text-align: right;\n",
       "    }\n",
       "</style>\n",
       "<table border=\"1\" class=\"dataframe\">\n",
       "  <thead>\n",
       "    <tr style=\"text-align: right;\">\n",
       "      <th></th>\n",
       "      <th>actual</th>\n",
       "      <th>counted</th>\n",
       "      <th>error</th>\n",
       "    </tr>\n",
       "  </thead>\n",
       "  <tbody>\n",
       "    <tr>\n",
       "      <th>0</th>\n",
       "      <td>35</td>\n",
       "      <td>7</td>\n",
       "      <td>28</td>\n",
       "    </tr>\n",
       "    <tr>\n",
       "      <th>1</th>\n",
       "      <td>41</td>\n",
       "      <td>9</td>\n",
       "      <td>32</td>\n",
       "    </tr>\n",
       "    <tr>\n",
       "      <th>2</th>\n",
       "      <td>41</td>\n",
       "      <td>6</td>\n",
       "      <td>35</td>\n",
       "    </tr>\n",
       "    <tr>\n",
       "      <th>3</th>\n",
       "      <td>44</td>\n",
       "      <td>8</td>\n",
       "      <td>36</td>\n",
       "    </tr>\n",
       "    <tr>\n",
       "      <th>4</th>\n",
       "      <td>41</td>\n",
       "      <td>12</td>\n",
       "      <td>29</td>\n",
       "    </tr>\n",
       "    <tr>\n",
       "      <th>...</th>\n",
       "      <td>...</td>\n",
       "      <td>...</td>\n",
       "      <td>...</td>\n",
       "    </tr>\n",
       "    <tr>\n",
       "      <th>95</th>\n",
       "      <td>25</td>\n",
       "      <td>5</td>\n",
       "      <td>20</td>\n",
       "    </tr>\n",
       "    <tr>\n",
       "      <th>96</th>\n",
       "      <td>28</td>\n",
       "      <td>6</td>\n",
       "      <td>22</td>\n",
       "    </tr>\n",
       "    <tr>\n",
       "      <th>97</th>\n",
       "      <td>30</td>\n",
       "      <td>7</td>\n",
       "      <td>23</td>\n",
       "    </tr>\n",
       "    <tr>\n",
       "      <th>98</th>\n",
       "      <td>31</td>\n",
       "      <td>5</td>\n",
       "      <td>26</td>\n",
       "    </tr>\n",
       "    <tr>\n",
       "      <th>99</th>\n",
       "      <td>32</td>\n",
       "      <td>8</td>\n",
       "      <td>24</td>\n",
       "    </tr>\n",
       "  </tbody>\n",
       "</table>\n",
       "<p>100 rows × 3 columns</p>\n",
       "</div>"
      ],
      "text/plain": [
       "    actual  counted  error\n",
       "0       35        7     28\n",
       "1       41        9     32\n",
       "2       41        6     35\n",
       "3       44        8     36\n",
       "4       41       12     29\n",
       "..     ...      ...    ...\n",
       "95      25        5     20\n",
       "96      28        6     22\n",
       "97      30        7     23\n",
       "98      31        5     26\n",
       "99      32        8     24\n",
       "\n",
       "[100 rows x 3 columns]"
      ]
     },
     "execution_count": 6,
     "metadata": {},
     "output_type": "execute_result"
    }
   ],
   "source": [
    "df"
   ]
  },
  {
   "cell_type": "markdown",
   "metadata": {},
   "source": [
    "# Scale image\n",
    "The HOG detector may perform better at different scales. Try detecting people at multipel scales by resizing the image"
   ]
  },
  {
   "cell_type": "code",
   "execution_count": 7,
   "metadata": {},
   "outputs": [],
   "source": [
    "def count_people(image, scale):\n",
    "    # Load the pre-trained HOG people detector\n",
    "    hog = cv2.HOGDescriptor()\n",
    "    hog.setSVMDetector(cv2.HOGDescriptor_getDefaultPeopleDetector())\n",
    "\n",
    "    scaled_image = cv2.resize(image, (int(image.shape[1] * scale), int(image.shape[0] * scale)))\n",
    "\n",
    "    # Convert the image to grayscale for HOG detector\n",
    "    # gray = cv2.cvtColor(scaled_image, cv2.COLOR_BGR2GRAY)\n",
    "\n",
    "    # Detect people in the image\n",
    "    people, _ = hog.detectMultiScale(scaled_image)\n",
    "\n",
    "    # Return the count of detected people\n",
    "    return len(people)"
   ]
  },
  {
   "cell_type": "code",
   "execution_count": 8,
   "metadata": {},
   "outputs": [],
   "source": [
    "scaleList = np.arange(1.0, 3.0, 0.2)\n",
    "countErr = {scale:[] for scale in scaleList}\n",
    "for _ in range(100):\n",
    "    i = random.randint(0, len(images))\n",
    "    img = images[i]\n",
    "    lab = label[i]\n",
    "    for scale in scaleList:\n",
    "        startTime = time.time()\n",
    "        count = count_people(img, scale)\n",
    "        elapsedTime = time.time() - startTime\n",
    "        error = ((lab[0] - count) / lab[0]) * 100\n",
    "        countErr[scale].append([count, error, elapsedTime])"
   ]
  },
  {
   "cell_type": "code",
   "execution_count": 9,
   "metadata": {},
   "outputs": [
    {
     "data": {
      "text/html": [
       "<div>\n",
       "<style scoped>\n",
       "    .dataframe tbody tr th:only-of-type {\n",
       "        vertical-align: middle;\n",
       "    }\n",
       "\n",
       "    .dataframe tbody tr th {\n",
       "        vertical-align: top;\n",
       "    }\n",
       "\n",
       "    .dataframe thead th {\n",
       "        text-align: right;\n",
       "    }\n",
       "</style>\n",
       "<table border=\"1\" class=\"dataframe\">\n",
       "  <thead>\n",
       "    <tr style=\"text-align: right;\">\n",
       "      <th></th>\n",
       "      <th>scale</th>\n",
       "      <th>average percentage error</th>\n",
       "      <th>average computing time</th>\n",
       "    </tr>\n",
       "  </thead>\n",
       "  <tbody>\n",
       "    <tr>\n",
       "      <th>0</th>\n",
       "      <td>1.0</td>\n",
       "      <td>81.797</td>\n",
       "      <td>0.084</td>\n",
       "    </tr>\n",
       "    <tr>\n",
       "      <th>1</th>\n",
       "      <td>1.2</td>\n",
       "      <td>73.833</td>\n",
       "      <td>0.099</td>\n",
       "    </tr>\n",
       "    <tr>\n",
       "      <th>2</th>\n",
       "      <td>1.4</td>\n",
       "      <td>65.201</td>\n",
       "      <td>0.161</td>\n",
       "    </tr>\n",
       "    <tr>\n",
       "      <th>3</th>\n",
       "      <td>1.6</td>\n",
       "      <td>62.848</td>\n",
       "      <td>0.235</td>\n",
       "    </tr>\n",
       "    <tr>\n",
       "      <th>4</th>\n",
       "      <td>1.8</td>\n",
       "      <td>60.842</td>\n",
       "      <td>0.300</td>\n",
       "    </tr>\n",
       "    <tr>\n",
       "      <th>5</th>\n",
       "      <td>2.0</td>\n",
       "      <td>57.618</td>\n",
       "      <td>0.371</td>\n",
       "    </tr>\n",
       "    <tr>\n",
       "      <th>6</th>\n",
       "      <td>2.2</td>\n",
       "      <td>56.741</td>\n",
       "      <td>0.445</td>\n",
       "    </tr>\n",
       "    <tr>\n",
       "      <th>7</th>\n",
       "      <td>2.4</td>\n",
       "      <td>53.458</td>\n",
       "      <td>0.546</td>\n",
       "    </tr>\n",
       "    <tr>\n",
       "      <th>8</th>\n",
       "      <td>2.6</td>\n",
       "      <td>54.604</td>\n",
       "      <td>0.634</td>\n",
       "    </tr>\n",
       "    <tr>\n",
       "      <th>9</th>\n",
       "      <td>2.8</td>\n",
       "      <td>52.545</td>\n",
       "      <td>0.765</td>\n",
       "    </tr>\n",
       "  </tbody>\n",
       "</table>\n",
       "</div>"
      ],
      "text/plain": [
       "   scale  average percentage error  average computing time\n",
       "0    1.0                    81.797                   0.084\n",
       "1    1.2                    73.833                   0.099\n",
       "2    1.4                    65.201                   0.161\n",
       "3    1.6                    62.848                   0.235\n",
       "4    1.8                    60.842                   0.300\n",
       "5    2.0                    57.618                   0.371\n",
       "6    2.2                    56.741                   0.445\n",
       "7    2.4                    53.458                   0.546\n",
       "8    2.6                    54.604                   0.634\n",
       "9    2.8                    52.545                   0.765"
      ]
     },
     "execution_count": 9,
     "metadata": {},
     "output_type": "execute_result"
    }
   ],
   "source": [
    "scaleAnalysis = pd.DataFrame(columns=[\"scale\", \"average percentage error\", \"average computing time\"])\n",
    "i = 0\n",
    "for scale, count in countErr.items():\n",
    "    df = pd.DataFrame(count, columns=[\"count\", \"error\", \"time\"])\n",
    "    err = round(sum(df[\"error\"])/len(df[\"error\"]), 3)\n",
    "    computeTime = round(sum(df[\"time\"])/len(df[\"time\"]), 3)\n",
    "    scaleAnalysis.loc[i] = [round(scale, 2), err, computeTime]\n",
    "    i += 1\n",
    "scaleAnalysis"
   ]
  },
  {
   "cell_type": "markdown",
   "metadata": {},
   "source": [
    "# winStride and padding\n",
    "Scaling is working. As increasing the size of image, the model is taking longer time but definitely reducing the error. To keep fast computing time, will use scaling between 1.8 and 2.2 and adjust other parameters such as winStride and padding  \n",
    "\n",
    "help: https://stackoverflow.com/questions/26607418/improving-accuracy-opencv-hog-people-detector"
   ]
  },
  {
   "cell_type": "code",
   "execution_count": 58,
   "metadata": {},
   "outputs": [],
   "source": [
    "def count_people(image, winStride, padding):\n",
    "    # Load the pre-trained HOG people detector\n",
    "    hog = cv2.HOGDescriptor(_winSize=(64, 128), _blockSize=(16, 16), _blockStride=(8, 8), _cellSize=(8, 8), _nbins=9)\n",
    "    hog.setSVMDetector(cv2.HOGDescriptor_getDefaultPeopleDetector())\n",
    "\n",
    "    scaled_image = cv2.resize(image, (int(image.shape[1] * 2.2), int(image.shape[0] * 2.2)))\n",
    "\n",
    "    # Convert the image to grayscale for HOG detector\n",
    "    gray = cv2.cvtColor(scaled_image, cv2.COLOR_BGR2GRAY)\n",
    "\n",
    "    # Detect people in the image\n",
    "    people, _ = hog.detectMultiScale(gray, winStride=winStride, padding=padding)\n",
    "\n",
    "    # Return the count of detected people\n",
    "    return len(people)"
   ]
  },
  {
   "cell_type": "code",
   "execution_count": 59,
   "metadata": {},
   "outputs": [],
   "source": [
    "winStrideList = [(4,4), (4,8), (8,8), (8,16), (16, 16), (16, 32), (32, 32)]\n",
    "countErr = {ws:[] for ws in winStrideList}\n",
    "\n",
    "for _ in range(100):\n",
    "    i = random.randint(0, len(images))\n",
    "    img = images[i]\n",
    "    lab = label[i]\n",
    "    for winStride in winStrideList:\n",
    "        startTime = time.time()\n",
    "        count = count_people(img, winStride, (8,8))\n",
    "        elapsedTime = time.time() - startTime\n",
    "        error = ((lab[0] - count) / lab[0]) * 100\n",
    "        countErr[winStride].append([count, error, elapsedTime])"
   ]
  },
  {
   "cell_type": "code",
   "execution_count": 60,
   "metadata": {},
   "outputs": [
    {
     "data": {
      "text/html": [
       "<div>\n",
       "<style scoped>\n",
       "    .dataframe tbody tr th:only-of-type {\n",
       "        vertical-align: middle;\n",
       "    }\n",
       "\n",
       "    .dataframe tbody tr th {\n",
       "        vertical-align: top;\n",
       "    }\n",
       "\n",
       "    .dataframe thead th {\n",
       "        text-align: right;\n",
       "    }\n",
       "</style>\n",
       "<table border=\"1\" class=\"dataframe\">\n",
       "  <thead>\n",
       "    <tr style=\"text-align: right;\">\n",
       "      <th></th>\n",
       "      <th>winStride</th>\n",
       "      <th>average percentage error</th>\n",
       "      <th>average computing time</th>\n",
       "    </tr>\n",
       "  </thead>\n",
       "  <tbody>\n",
       "    <tr>\n",
       "      <th>0</th>\n",
       "      <td>(4, 4)</td>\n",
       "      <td>38.693</td>\n",
       "      <td>2.254</td>\n",
       "    </tr>\n",
       "    <tr>\n",
       "      <th>1</th>\n",
       "      <td>(4, 8)</td>\n",
       "      <td>47.725</td>\n",
       "      <td>1.108</td>\n",
       "    </tr>\n",
       "    <tr>\n",
       "      <th>2</th>\n",
       "      <td>(8, 8)</td>\n",
       "      <td>57.705</td>\n",
       "      <td>0.571</td>\n",
       "    </tr>\n",
       "    <tr>\n",
       "      <th>3</th>\n",
       "      <td>(8, 16)</td>\n",
       "      <td>67.026</td>\n",
       "      <td>0.388</td>\n",
       "    </tr>\n",
       "    <tr>\n",
       "      <th>4</th>\n",
       "      <td>(16, 16)</td>\n",
       "      <td>80.638</td>\n",
       "      <td>0.297</td>\n",
       "    </tr>\n",
       "    <tr>\n",
       "      <th>5</th>\n",
       "      <td>(16, 32)</td>\n",
       "      <td>94.271</td>\n",
       "      <td>0.249</td>\n",
       "    </tr>\n",
       "    <tr>\n",
       "      <th>6</th>\n",
       "      <td>(32, 32)</td>\n",
       "      <td>99.085</td>\n",
       "      <td>0.226</td>\n",
       "    </tr>\n",
       "  </tbody>\n",
       "</table>\n",
       "</div>"
      ],
      "text/plain": [
       "  winStride  average percentage error  average computing time\n",
       "0    (4, 4)                    38.693                   2.254\n",
       "1    (4, 8)                    47.725                   1.108\n",
       "2    (8, 8)                    57.705                   0.571\n",
       "3   (8, 16)                    67.026                   0.388\n",
       "4  (16, 16)                    80.638                   0.297\n",
       "5  (16, 32)                    94.271                   0.249\n",
       "6  (32, 32)                    99.085                   0.226"
      ]
     },
     "execution_count": 60,
     "metadata": {},
     "output_type": "execute_result"
    }
   ],
   "source": [
    "winAnalysis = pd.DataFrame(columns=[\"winStride\", \"average percentage error\", \"average computing time\"])\n",
    "i = 0\n",
    "for ws, count in countErr.items():\n",
    "    df = pd.DataFrame(count, columns=[\"count\", \"error\", \"time\"])\n",
    "    err = round(sum(df[\"error\"])/len(df[\"error\"]), 3)\n",
    "    computeTime = round(sum(df[\"time\"])/len(df[\"time\"]), 3)\n",
    "    winAnalysis.loc[i] = [ws, err, computeTime]\n",
    "    i += 1\n",
    "winAnalysis"
   ]
  },
  {
   "cell_type": "markdown",
   "metadata": {},
   "source": [
    "# Get metrics\n"
   ]
  },
  {
   "cell_type": "code",
   "execution_count": 4,
   "metadata": {},
   "outputs": [],
   "source": [
    "def count_people(image):\n",
    "    # Load the pre-trained HOG people detector\n",
    "    hog = cv2.HOGDescriptor(_winSize=(64, 128), _blockSize=(16, 16), _blockStride=(8, 8), _cellSize=(8, 8), _nbins=9)\n",
    "    hog.setSVMDetector(cv2.HOGDescriptor_getDefaultPeopleDetector())\n",
    "\n",
    "    scaled_image = cv2.resize(image, (int(image.shape[1] * 2.2), int(image.shape[0] * 2.2)))\n",
    "\n",
    "    # Convert the image to grayscale for HOG detector\n",
    "    gray = cv2.cvtColor(scaled_image, cv2.COLOR_BGR2GRAY)\n",
    "\n",
    "    # Detect people in the image\n",
    "    people, _ = hog.detectMultiScale(gray, winStride=(4,4), padding=(8,8))\n",
    "\n",
    "    # Return the count of detected people\n",
    "    return len(people)"
   ]
  },
  {
   "cell_type": "code",
   "execution_count": 5,
   "metadata": {},
   "outputs": [
    {
     "name": "stdout",
     "output_type": "stream",
     "text": [
      "Finished calculating 0th\n",
      "Finished calculating 10th\n",
      "Finished calculating 20th\n",
      "Finished calculating 30th\n",
      "Finished calculating 40th\n",
      "Finished calculating 50th\n",
      "Finished calculating 60th\n",
      "Finished calculating 70th\n",
      "Finished calculating 80th\n",
      "Finished calculating 90th\n",
      "Finished calculating 100th\n",
      "Finished calculating 110th\n",
      "Finished calculating 120th\n",
      "Finished calculating 130th\n",
      "Finished calculating 140th\n",
      "Finished calculating 150th\n",
      "Finished calculating 160th\n",
      "Finished calculating 170th\n",
      "Finished calculating 180th\n",
      "Finished calculating 190th\n",
      "Finished calculating 200th\n",
      "Finished calculating 210th\n",
      "Finished calculating 220th\n",
      "Finished calculating 230th\n",
      "Finished calculating 240th\n",
      "Finished calculating 250th\n",
      "Finished calculating 260th\n",
      "Finished calculating 270th\n",
      "Finished calculating 280th\n",
      "Finished calculating 290th\n",
      "Finished calculating 300th\n",
      "Finished calculating 310th\n",
      "Finished calculating 320th\n",
      "Finished calculating 330th\n",
      "Finished calculating 340th\n",
      "Finished calculating 350th\n",
      "Finished calculating 360th\n",
      "Finished calculating 370th\n",
      "Finished calculating 380th\n",
      "Finished calculating 390th\n",
      "Finished calculating 400th\n",
      "Finished calculating 410th\n",
      "Finished calculating 420th\n",
      "Finished calculating 430th\n",
      "Finished calculating 440th\n",
      "Finished calculating 450th\n",
      "Finished calculating 460th\n",
      "Finished calculating 470th\n",
      "Finished calculating 480th\n",
      "Finished calculating 490th\n"
     ]
    }
   ],
   "source": [
    "output = []\n",
    "for i in range(500):\n",
    "    lab = label[i]\n",
    "    img = images[i]\n",
    "\n",
    "    startTime = time.time()\n",
    "    count = count_people(img)\n",
    "    elapsedTime = time.time() - startTime\n",
    "    error = ((lab[0] - count) / lab[0]) * 100\n",
    "\n",
    "    output.append([lab[0], count, error, elapsedTime])\n",
    "\n",
    "    if i % 10 == 0:\n",
    "        print(f\"Finished calculating {i}th\")    "
   ]
  },
  {
   "cell_type": "code",
   "execution_count": 6,
   "metadata": {},
   "outputs": [
    {
     "name": "stdout",
     "output_type": "stream",
     "text": [
      "RMSE:  13.3 Average Percentage Error:  39.39 Average Computing Time per Picture:  2.42\n"
     ]
    },
    {
     "data": {
      "text/plain": [
       "[<matplotlib.lines.Line2D at 0x1cec40031f0>]"
      ]
     },
     "execution_count": 6,
     "metadata": {},
     "output_type": "execute_result"
    },
    {
     "data": {
      "image/png": "[encoded data removed]",
      "text/plain": [
       "<Figure size 576x576 with 1 Axes>"
      ]
     },
     "metadata": {
      "needs_background": "light"
     },
     "output_type": "display_data"
    }
   ],
   "source": [
    "from sklearn.metrics import mean_squared_error\n",
    "from math import sqrt\n",
    "import matplotlib.pyplot as plt\n",
    "\n",
    "df = pd.DataFrame(output, columns=[\"actual\", \"counted\", \"error\", \"computeTime\"])\n",
    "rmse = round(sqrt(mean_squared_error(df[\"actual\"], df[\"counted\"])), 2)\n",
    "avgErr = round(sum(df[\"error\"])/len(df[\"error\"]), 2)\n",
    "avgComputeTime = round(sum(df[\"computeTime\"])/len(df[\"computeTime\"]), 2)\n",
    "\n",
    "# print(df)\n",
    "print(\"RMSE: \", rmse, \"Average Percentage Error: \", avgErr, \"Average Computing Time per Picture: \", avgComputeTime)\n",
    "plt.figure(figsize=(8,8))\n",
    "plt.title(\"OpenCV\", fontsize=13)\n",
    "plt.scatter(df[\"actual\"], df[\"counted\"], alpha=0.5)\n",
    "plt.xlabel(\"Actual Occupancy\", fontsize=10)\n",
    "plt.ylabel(\"Expected Occupancy\", fontsize=10)\n",
    "plt.plot([0,55], [0,55], color=\"black\")"
   ]
  }
 ],
 "metadata": {
  "kernelspec": {
   "display_name": "Python 3",
   "language": "python",
   "name": "python3"
  },
  "language_info": {
   "codemirror_mode": {
    "name": "ipython",
    "version": 3
   },
   "file_extension": ".py",
   "mimetype": "text/x-python",
   "name": "python",
   "nbconvert_exporter": "python",
   "pygments_lexer": "ipython3",
   "version": "3.10.4"
  }
 },
 "nbformat": 4,
 "nbformat_minor": 2
}
